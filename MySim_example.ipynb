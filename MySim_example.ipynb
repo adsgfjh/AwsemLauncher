{
 "cells": [
  {
   "cell_type": "markdown",
   "metadata": {},
   "source": [
    "# Expamle use of AwsemLauncher"
   ]
  },
  {
   "cell_type": "code",
   "execution_count": 4,
   "metadata": {},
   "outputs": [],
   "source": [
    "import os\n",
    "import random \n",
    "import sys\n",
    "sys.path.append('/work/shared/SimJobs')\n",
    "from awsemjob import AwsemLauncher"
   ]
  },
  {
   "cell_type": "markdown",
   "metadata": {},
   "source": [
    "Create a class as a child class from the parent AwsemLauncher with an abstract method <modify_parameters>\n",
    "\n",
    "All the settings for the project and parameters for simulation jobs are defined in __init__\n",
    "\n",
    "Use the function modify_parameters to control parameters for running each simulation.\n",
    "Note even if there's nothing to be modified, the modify_parameters should always exist:\n",
    "\n",
    "def modify_parameters(self, ijob, ifolder):\n",
    "    pass\n",
    "    \n",
    "pbs file will be generated using the template defined in AwsemLauncher "
   ]
  },
  {
   "cell_type": "code",
   "execution_count": 8,
   "metadata": {},
   "outputs": [],
   "source": [
    "class MyProject(AwsemLauncher):\n",
    "    \n",
    "    current_dir = os.getcwd()\n",
    "    \n",
    "    def __init__(self, test=True):\n",
    "        # project setting\n",
    "        self.overwrite = True  # whether to overwrite project folder if it already exist\n",
    "        self.verbose = True  # whether to print information\n",
    "        self.work_dir = '/work/ace'  # the location of your project will be\n",
    "        self.project_name = 'test'  # will create a project folder named as this in the work_dir\n",
    "        self.run_id = 1  # to control restart run\n",
    "        self.unfold = 100  # only used when run_id > 1\n",
    "        self.njobs = 3  # max 99, number of independent simulations\n",
    "        \n",
    "        self.exe_path = '/work/shared/awsemmd/lmp_serial_g++_12182019'  # the location of your executable\n",
    "        self.input_file = 'd1_Modeller_6n3c_12.in'  # the input file for the executable\n",
    "        ## restart run will use this input file and modified it for a continued simulation\n",
    "        \n",
    "        self.test_submit = test  # to control whether to actually submit jobs\n",
    "        \n",
    "        # parameter files setting in work dir \n",
    "        ## copy files to work dir\n",
    "        self.copy_files = ['test.txt', 'unBias_tmpFolder']  # could be folder or file\n",
    "        \n",
    "        # submit file setting\n",
    "        self.submit_nodes = [1, 3]  # [1, 3]\n",
    "        self.submit_ppn = [40, 20] # [10, 40]\n",
    "        self.submit_cmd = self.exe_path + ' < ' + self.input_file\n",
    "        ## cd to the work dir will be added automatically\n",
    "    \n",
    "    def modify_parameters(self, ijob, ifolder):\n",
    "        # To replace str_a with str_b in file, use\n",
    "        # self.modify_file(path, str_a, str_b, filename=None)\n",
    "        self.modify_file(ifolder, 'banana', 'apple'+str(ijob), filename='test.txt')\n",
    "        r = random.randint(1, 1e8) \n",
    "        self.modify_file(ifolder, 'velocity all create 300.0 2349852',\n",
    "                         'velocity all create 300.0 %s' % r, filename=self.input_file)\n"
   ]
  },
  {
   "cell_type": "code",
   "execution_count": 11,
   "metadata": {},
   "outputs": [],
   "source": [
    "# When test is set to True, all operations will be done except that no jobs will be actually submitted.\n",
    "# Instead, it will print the submit command\n",
    "myproject = MyProject(test=True)"
   ]
  },
  {
   "cell_type": "code",
   "execution_count": 12,
   "metadata": {},
   "outputs": [
    {
     "name": "stdout",
     "output_type": "stream",
     "text": [
      "test submit: \n",
      "cd /work/ace/test/test_00/run_01 && qsub /work/ace/test/test_00/run_01/test.pbs\n",
      "test submit: \n",
      "cd /work/ace/test/test_01/run_01 && qsub /work/ace/test/test_01/run_01/test.pbs\n",
      "test submit: \n",
      "cd /work/ace/test/test_02/run_01 && qsub /work/ace/test/test_02/run_01/test.pbs\n"
     ]
    }
   ],
   "source": [
    "myproject.run()"
   ]
  },
  {
   "cell_type": "code",
   "execution_count": null,
   "metadata": {},
   "outputs": [],
   "source": []
  },
  {
   "cell_type": "code",
   "execution_count": null,
   "metadata": {},
   "outputs": [],
   "source": []
  },
  {
   "cell_type": "code",
   "execution_count": null,
   "metadata": {},
   "outputs": [],
   "source": []
  }
 ],
 "metadata": {
  "kernelspec": {
   "display_name": "Python 2",
   "language": "python",
   "name": "python2"
  },
  "language_info": {
   "codemirror_mode": {
    "name": "ipython",
    "version": 2
   },
   "file_extension": ".py",
   "mimetype": "text/x-python",
   "name": "python",
   "nbconvert_exporter": "python",
   "pygments_lexer": "ipython2",
   "version": "2.7.16"
  }
 },
 "nbformat": 4,
 "nbformat_minor": 2
}
